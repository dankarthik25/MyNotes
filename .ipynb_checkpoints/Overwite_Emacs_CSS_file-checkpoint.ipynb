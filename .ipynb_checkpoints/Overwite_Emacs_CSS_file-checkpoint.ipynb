{
 "cells": [
  {
   "cell_type": "markdown",
   "id": "8a7623d9",
   "metadata": {},
   "source": [
    "After creating the org to html document we need to link css file to main project folder \n",
    "\n",
    "Steps\n",
    "- \n",
    "- get all the html generarted by emacs-org and specific dir name `get_html_path(cwd,html_list)`\n",
    "\n",
    "- create list of main project dir \n",
    "```\n",
    "main_dir = ['notes', '01_Basic_of_AlgoTrade_PaperTrading','02_Basic_of_AlgoTrade_LiveTrading']\n",
    "```\n",
    "\n",
    "- Seperate the html file which are `main_dir` and sub dir \n",
    "```\n",
    "    if file_dir in main_dir:\n",
    "        rel_path = ''\n",
    "    else\n",
    "        rel_path = '../'\n",
    "```\n",
    "- For each html file_dir `overwite css` \n"
   ]
  },
  {
   "cell_type": "code",
   "execution_count": 1,
   "id": "96ca09a3",
   "metadata": {},
   "outputs": [],
   "source": [
    "import os \n",
    "cwd = os.getcwd()"
   ]
  },
  {
   "cell_type": "code",
   "execution_count": 2,
   "id": "64224d1f",
   "metadata": {},
   "outputs": [
    {
     "name": "stdout",
     "output_type": "stream",
     "text": [
      "['Pandas', 'readtheorg.css', 'Overwite_Emacs_CSS_file.ipynb', 'Job_revision.html', 'web-dev', 'MyOs_config', 'readtheorg-htmlize.css', 'program', 'Job_revision.org', 'jira', 'pandoc-md2html', 'emacs_config', '.ipynb_checkpoints', 'devops', 'emacs', 'aws', 'org2html', 'git']\n"
     ]
    }
   ],
   "source": [
    "cwd_ls = os.listdir(cwd)\n",
    "# print('\\n'.join(cwd_ls))\n",
    "print(cwd_ls)"
   ]
  },
  {
   "cell_type": "code",
   "execution_count": null,
   "id": "03263085",
   "metadata": {},
   "outputs": [],
   "source": []
  },
  {
   "cell_type": "code",
   "execution_count": 3,
   "id": "3eaae1e6",
   "metadata": {},
   "outputs": [
    {
     "name": "stdout",
     "output_type": "stream",
     "text": [
      "[{'file_name': 'Job_revision.html', 'file_dir': '/home/karthik/mynotes'}, {'file_name': 'Note_WebDeveloperBootcamp.html', 'file_dir': '/home/karthik/mynotes/web-dev'}, {'file_name': 'jekyll-Note.html', 'file_dir': '/home/karthik/mynotes/web-dev'}, {'file_name': 'Notes_html.html', 'file_dir': '/home/karthik/mynotes/web-dev'}, {'file_name': 'bootstrap.html', 'file_dir': '/home/karthik/mynotes/web-dev'}, {'file_name': 'jekyll-customize.html', 'file_dir': '/home/karthik/mynotes/web-dev'}, {'file_name': 'Notes_css.html', 'file_dir': '/home/karthik/mynotes/web-dev'}, {'file_name': 'min-max-height-width.html', 'file_dir': '/home/karthik/mynotes/web-dev/code-with-harry-css/Chapter 5'}, {'file_name': 'practice.html', 'file_dir': '/home/karthik/mynotes/web-dev/code-with-harry-css/Chapter 5'}, {'file_name': 'position.html', 'file_dir': '/home/karthik/mynotes/web-dev/code-with-harry-css/Chapter 5'}, {'file_name': 'units.html', 'file_dir': '/home/karthik/mynotes/web-dev/code-with-harry-css/Chapter 5'}, {'file_name': 'index.html', 'file_dir': '/home/karthik/mynotes/web-dev/code-with-harry-css/Chapter 0'}, {'file_name': 'seo.html', 'file_dir': '/home/karthik/mynotes/web-dev/code-with-harry-css/Chapter 0/HTML Notes/Chapter 5'}, {'file_name': 'cwh.html', 'file_dir': '/home/karthik/mynotes/web-dev/code-with-harry-css/Chapter 0/HTML Notes/Chapter 0'}, {'file_name': 'index.html', 'file_dir': '/home/karthik/mynotes/web-dev/code-with-harry-css/Chapter 0/HTML Notes/Chapter 2'}, {'file_name': 'ps.html', 'file_dir': '/home/karthik/mynotes/web-dev/code-with-harry-css/Chapter 0/HTML Notes/Chapter 2'}, {'file_name': 'about.html', 'file_dir': '/home/karthik/mynotes/web-dev/code-with-harry-css/Chapter 0/HTML Notes/Chapter 2'}, {'file_name': 'video.html', 'file_dir': '/home/karthik/mynotes/web-dev/code-with-harry-css/Chapter 0/HTML Notes/Chapter 4'}, {'file_name': 'form.html', 'file_dir': '/home/karthik/mynotes/web-dev/code-with-harry-css/Chapter 0/HTML Notes/Chapter 4'}, {'file_name': 'list.html', 'file_dir': '/home/karthik/mynotes/web-dev/code-with-harry-css/Chapter 0/HTML Notes/Chapter 4'}, {'file_name': 'table.html', 'file_dir': '/home/karthik/mynotes/web-dev/code-with-harry-css/Chapter 0/HTML Notes/Chapter 4'}, {'file_name': 'index.html', 'file_dir': '/home/karthik/mynotes/web-dev/code-with-harry-css/Chapter 0/HTML Notes/Chapter 1'}, {'file_name': 'practice.html', 'file_dir': '/home/karthik/mynotes/web-dev/code-with-harry-css/Chapter 0/HTML Notes/Chapter 1'}, {'file_name': 'notepad.html', 'file_dir': '/home/karthik/mynotes/web-dev/code-with-harry-css/Chapter 0/HTML Notes/Chapter 1'}, {'file_name': 'index.html', 'file_dir': '/home/karthik/mynotes/web-dev/code-with-harry-css/Chapter 0/HTML Notes/Chapter 3'}, {'file_name': 'chapter3ps.html', 'file_dir': '/home/karthik/mynotes/web-dev/code-with-harry-css/Chapter 0/HTML Notes/Chapter 3'}, {'file_name': 'background.html', 'file_dir': '/home/karthik/mynotes/web-dev/code-with-harry-css/Chapter 2'}, {'file_name': 'ch2ps.html', 'file_dir': '/home/karthik/mynotes/web-dev/code-with-harry-css/Chapter 2'}, {'file_name': 'rough.html', 'file_dir': '/home/karthik/mynotes/web-dev/code-with-harry-css/Chapter 2'}, {'file_name': 'color.html', 'file_dir': '/home/karthik/mynotes/web-dev/code-with-harry-css/Chapter 2'}, {'file_name': 'chapter4Ps.html', 'file_dir': '/home/karthik/mynotes/web-dev/code-with-harry-css/Chapter 4'}, {'file_name': 'index.html', 'file_dir': '/home/karthik/mynotes/web-dev/code-with-harry-css/Chapter 4'}, {'file_name': 'otherFontProps.html', 'file_dir': '/home/karthik/mynotes/web-dev/code-with-harry-css/Chapter 4'}, {'file_name': 'ropugh.html', 'file_dir': '/home/karthik/mynotes/web-dev/code-with-harry-css/Chapter 4'}, {'file_name': 'textProp.html', 'file_dir': '/home/karthik/mynotes/web-dev/code-with-harry-css/Chapter 4'}, {'file_name': 'flexbox.html', 'file_dir': '/home/karthik/mynotes/web-dev/code-with-harry-css/Chapter 6'}, {'file_name': 'practiceSet.html', 'file_dir': '/home/karthik/mynotes/web-dev/code-with-harry-css/Chapter 6'}, {'file_name': 'float.html', 'file_dir': '/home/karthik/mynotes/web-dev/code-with-harry-css/Chapter 6'}, {'file_name': 'practiceSet2.html', 'file_dir': '/home/karthik/mynotes/web-dev/code-with-harry-css/Chapter 6'}, {'file_name': 'index.html', 'file_dir': '/home/karthik/mynotes/web-dev/code-with-harry-css/Chapter 1'}, {'file_name': 'cssPractice.html', 'file_dir': '/home/karthik/mynotes/web-dev/code-with-harry-css/Chapter 1'}, {'file_name': 'cssSelectors.html', 'file_dir': '/home/karthik/mynotes/web-dev/code-with-harry-css/Chapter 1'}, {'file_name': 'index.html', 'file_dir': '/home/karthik/mynotes/web-dev/code-with-harry-css/Chapter 8'}, {'file_name': 'practice.html', 'file_dir': '/home/karthik/mynotes/web-dev/code-with-harry-css/Chapter 8'}, {'file_name': 'animation.html', 'file_dir': '/home/karthik/mynotes/web-dev/code-with-harry-css/Chapter 8'}, {'file_name': 'index.html', 'file_dir': '/home/karthik/mynotes/web-dev/code-with-harry-css/Chapter 7'}, {'file_name': 'media.html', 'file_dir': '/home/karthik/mynotes/web-dev/code-with-harry-css/Chapter 7'}, {'file_name': 'practice3.html', 'file_dir': '/home/karthik/mynotes/web-dev/code-with-harry-css/Chapter 7'}, {'file_name': 'practice1.html', 'file_dir': '/home/karthik/mynotes/web-dev/code-with-harry-css/Chapter 7'}, {'file_name': 'index.html', 'file_dir': '/home/karthik/mynotes/web-dev/code-with-harry-css/Chapter 3'}, {'file_name': 'ch3ps.html', 'file_dir': '/home/karthik/mynotes/web-dev/code-with-harry-css/Chapter 3'}, {'file_name': 'marginCollapse.html', 'file_dir': '/home/karthik/mynotes/web-dev/code-with-harry-css/Chapter 3'}, {'file_name': 'index.html', 'file_dir': '/home/karthik/mynotes/web-dev/Project'}, {'file_name': 'Notes_js.html', 'file_dir': '/home/karthik/mynotes/web-dev'}, {'file_name': 'Note_vim.html', 'file_dir': '/home/karthik/mynotes/MyOs_config'}, {'file_name': 'mylinux-config.html', 'file_dir': '/home/karthik/mynotes/MyOs_config'}, {'file_name': 'sqlite.html', 'file_dir': '/home/karthik/mynotes/program'}, {'file_name': 'Numpy.html', 'file_dir': '/home/karthik/mynotes/program'}, {'file_name': 'py_modules.html', 'file_dir': '/home/karthik/mynotes/program'}, {'file_name': 'Note_DS_N_Algo.html', 'file_dir': '/home/karthik/mynotes/program'}, {'file_name': 'java-script.html', 'file_dir': '/home/karthik/mynotes/program'}, {'file_name': 'Notes_sql.html', 'file_dir': '/home/karthik/mynotes/program'}, {'file_name': 'ismriti_training.html', 'file_dir': '/home/karthik/mynotes/program'}, {'file_name': 'Note_cpp_chernoproject.html', 'file_dir': '/home/karthik/mynotes/program'}, {'file_name': 'Note_cpp.html', 'file_dir': '/home/karthik/mynotes/program'}, {'file_name': 'Import-Export.html', 'file_dir': '/home/karthik/mynotes/program/pandas-sub-doc'}, {'file_name': 'Pandas-Cleaning-Data-stackoverflow.html', 'file_dir': '/home/karthik/mynotes/program/pandas-sub-doc'}, {'file_name': 'Datetime-Timeseries.html', 'file_dir': '/home/karthik/mynotes/program/pandas-sub-doc'}, {'file_name': 'Pandas-Cleaning-Data.html', 'file_dir': '/home/karthik/mynotes/program/pandas-sub-doc'}, {'file_name': 'Pandas-Grouping-Aggregates.html', 'file_dir': '/home/karthik/mynotes/program/pandas-sub-doc'}, {'file_name': 'Notes_sql_DBMS.html', 'file_dir': '/home/karthik/mynotes/program'}, {'file_name': 'Notes_pandas.html', 'file_dir': '/home/karthik/mynotes/program'}, {'file_name': 'hakerrank.html', 'file_dir': '/home/karthik/mynotes/program'}, {'file_name': 'py_audio.html', 'file_dir': '/home/karthik/mynotes/program'}, {'file_name': 'Note_py.html', 'file_dir': '/home/karthik/mynotes/program'}, {'file_name': 'Note_flask.html', 'file_dir': '/home/karthik/mynotes/program'}, {'file_name': 'mynotes.html', 'file_dir': '/home/karthik/mynotes/jira'}, {'file_name': 'ReadMe_Markdown.html', 'file_dir': '/home/karthik/mynotes/pandoc-md2html'}, {'file_name': 'links.html', 'file_dir': '/home/karthik/mynotes/pandoc-md2html'}, {'file_name': 'md2html.html', 'file_dir': '/home/karthik/mynotes/pandoc-md2html'}, {'file_name': 'CrossAccount.html', 'file_dir': '/home/karthik/mynotes/pandoc-md2html'}, {'file_name': 'org2other.html', 'file_dir': '/home/karthik/mynotes/pandoc-md2html'}, {'file_name': 'Note_emacs_packages.html', 'file_dir': '/home/karthik/mynotes/emacs_config'}, {'file_name': 'How_2_create_config.html', 'file_dir': '/home/karthik/mynotes/emacs_config'}, {'file_name': 'resources.html', 'file_dir': '/home/karthik/mynotes/emacs_config'}, {'file_name': 'Devops_Interview_Questions.html', 'file_dir': '/home/karthik/mynotes/devops'}, {'file_name': 'Note_Docker_Kubenetics.html', 'file_dir': '/home/karthik/mynotes/devops'}, {'file_name': 'Devops_SonarQube.html', 'file_dir': '/home/karthik/mynotes/devops'}, {'file_name': 'Kubenetes-ckad.html', 'file_dir': '/home/karthik/mynotes/devops'}, {'file_name': 'Note_linuxTutorial.html', 'file_dir': '/home/karthik/mynotes/devops'}, {'file_name': 'devops_Intro.html', 'file_dir': '/home/karthik/mynotes/devops'}, {'file_name': 'Docker-assignment.html', 'file_dir': '/home/karthik/mynotes/devops'}, {'file_name': 'Note_linuxTutorial_Shell.html', 'file_dir': '/home/karthik/mynotes/devops'}, {'file_name': 'note_git_myconfig.html', 'file_dir': '/home/karthik/mynotes/devops'}, {'file_name': 'temp.html', 'file_dir': '/home/karthik/mynotes/devops'}, {'file_name': 'Note_linuxTutorial_Vagrant.html', 'file_dir': '/home/karthik/mynotes/devops'}, {'file_name': 'Note_Jenkins.html', 'file_dir': '/home/karthik/mynotes/devops'}, {'file_name': 'Note_git.html', 'file_dir': '/home/karthik/mynotes/devops'}, {'file_name': 'selenium.html', 'file_dir': '/home/karthik/mynotes/devops'}, {'file_name': 'Docker_Overview.html', 'file_dir': '/home/karthik/mynotes/devops'}, {'file_name': 'Note_linux_os.html', 'file_dir': '/home/karthik/mynotes/devops'}, {'file_name': 'Note_devops.html', 'file_dir': '/home/karthik/mynotes/devops'}, {'file_name': 'Note_Ansible.html', 'file_dir': '/home/karthik/mynotes/devops'}, {'file_name': 'Note_Ansible_prac.html', 'file_dir': '/home/karthik/mynotes/devops'}, {'file_name': 'jira.html', 'file_dir': '/home/karthik/mynotes/devops'}, {'file_name': 'Troubleshoot.html', 'file_dir': '/home/karthik/mynotes/devops'}, {'file_name': 'Jfrog.html', 'file_dir': '/home/karthik/mynotes/devops'}, {'file_name': 'Docker.html', 'file_dir': '/home/karthik/mynotes/devops'}, {'file_name': 'Note_Kubernetics.html', 'file_dir': '/home/karthik/mynotes/devops'}, {'file_name': 'kubernetes-cka.html', 'file_dir': '/home/karthik/mynotes/devops'}, {'file_name': 'Tools.html', 'file_dir': '/home/karthik/mynotes/devops'}, {'file_name': 'lisp.html', 'file_dir': '/home/karthik/mynotes/emacs'}, {'file_name': 'elisp.html', 'file_dir': '/home/karthik/mynotes/emacs'}, {'file_name': 'Note_org2html.html', 'file_dir': '/home/karthik/mynotes/emacs'}, {'file_name': 'Note_emacs.html', 'file_dir': '/home/karthik/mynotes/emacs'}, {'file_name': 'Note_org.html', 'file_dir': '/home/karthik/mynotes/emacs'}, {'file_name': 'udemy-cloudformation.html', 'file_dir': '/home/karthik/mynotes/aws'}, {'file_name': 'Note_terraform.html', 'file_dir': '/home/karthik/mynotes/aws'}, {'file_name': 'cross_account_pipeline.html', 'file_dir': '/home/karthik/mynotes/aws'}, {'file_name': 'AWS_SolutionArchitecure.html', 'file_dir': '/home/karthik/mynotes/aws'}, {'file_name': 'cloudformation-kalyanReddy.html', 'file_dir': '/home/karthik/mynotes/aws'}, {'file_name': 'loadbalancer.html', 'file_dir': '/home/karthik/mynotes/aws'}, {'file_name': 'aws_lambda.html', 'file_dir': '/home/karthik/mynotes/aws'}, {'file_name': 'drone-demo-readme.html', 'file_dir': '/home/karthik/mynotes/org2html'}, {'file_name': 'org2html-gray.html', 'file_dir': '/home/karthik/mynotes/org2html/test-org2html'}, {'file_name': 'org2html-simple_whiteblue.html', 'file_dir': '/home/karthik/mynotes/org2html/test-org2html'}, {'file_name': 'org2html-comfy_inline.html', 'file_dir': '/home/karthik/mynotes/org2html/test-org2html'}, {'file_name': 'org2html-latexcss.html', 'file_dir': '/home/karthik/mynotes/org2html/test-org2html'}, {'file_name': 'org2html-readtheorg.html', 'file_dir': '/home/karthik/mynotes/org2html/test-org2html'}, {'file_name': 'org2html-simple_inline.html', 'file_dir': '/home/karthik/mynotes/org2html/test-org2html'}, {'file_name': 'drone-vcup.html', 'file_dir': '/home/karthik/mynotes/org2html'}, {'file_name': 'latexcss.html', 'file_dir': '/home/karthik/mynotes/org2html/org-themes_gitlab/public/latexcss'}, {'file_name': 'simple_white.html', 'file_dir': '/home/karthik/mynotes/org2html/org-themes_gitlab/public/simple_white'}, {'file_name': 'bigblow.html', 'file_dir': '/home/karthik/mynotes/org2html/org-themes_gitlab/public/bigblow_inline'}, {'file_name': 'index.html', 'file_dir': '/home/karthik/mynotes/org2html/org-themes_gitlab/public'}, {'file_name': 'simple_gray.html', 'file_dir': '/home/karthik/mynotes/org2html/org-themes_gitlab/public/simple_gray'}, {'file_name': 'solarized_light.html', 'file_dir': '/home/karthik/mynotes/org2html/org-themes_gitlab/public/solarized_light'}, {'file_name': 'readtheorg_inline.html', 'file_dir': '/home/karthik/mynotes/org2html/org-themes_gitlab/public/readtheorg_inline'}, {'file_name': 'retro_dark.html', 'file_dir': '/home/karthik/mynotes/org2html/org-themes_gitlab/public/retro_dark'}, {'file_name': 'darksun.html', 'file_dir': '/home/karthik/mynotes/org2html/org-themes_gitlab/public/darksun'}, {'file_name': 'comfy_inline.html', 'file_dir': '/home/karthik/mynotes/org2html/org-themes_gitlab/public/comfy_inline'}, {'file_name': 'simple_whiteblue.html', 'file_dir': '/home/karthik/mynotes/org2html/org-themes_gitlab/public/simple_whiteblue'}, {'file_name': 'white_clean.html', 'file_dir': '/home/karthik/mynotes/org2html/org-themes_gitlab/public/white_clean'}, {'file_name': 'gray.html', 'file_dir': '/home/karthik/mynotes/org2html/org-themes_gitlab/public/gray'}, {'file_name': 'rethink_inline.html', 'file_dir': '/home/karthik/mynotes/org2html/org-themes_gitlab/public/rethink_inline'}, {'file_name': 'solarized_dark.html', 'file_dir': '/home/karthik/mynotes/org2html/org-themes_gitlab/public/solarized_dark'}, {'file_name': 'imagine_light.html', 'file_dir': '/home/karthik/mynotes/org2html/org-themes_gitlab/public/imagine_light'}, {'file_name': 'simple_inline.html', 'file_dir': '/home/karthik/mynotes/org2html/org-themes_gitlab/public/simple_inline'}, {'file_name': 'stylish_white.html', 'file_dir': '/home/karthik/mynotes/org2html/org-themes_gitlab/public/stylish_white'}, {'file_name': 'plain.html', 'file_dir': '/home/karthik/mynotes/org2html/org-themes_gitlab/public/plain'}, {'file_name': 'org2html.html', 'file_dir': '/home/karthik/mynotes/org2html'}, {'file_name': 'Example-theme-4-python-doc.html', 'file_dir': '/home/karthik/mynotes/org2html/org-theme-collection/need_to_create_more_themes'}, {'file_name': 'Example-theme-2.html', 'file_dir': '/home/karthik/mynotes/org2html/org-theme-collection/need_to_create_more_themes'}, {'file_name': 'Example-theme-5-ansible-doc.html', 'file_dir': '/home/karthik/mynotes/org2html/org-theme-collection/need_to_create_more_themes'}, {'file_name': 'Example-theme-3-conda.html', 'file_dir': '/home/karthik/mynotes/org2html/org-theme-collection/need_to_create_more_themes'}, {'file_name': 'Example-theme-6-stackoverflow.html', 'file_dir': '/home/karthik/mynotes/org2html/org-theme-collection/need_to_create_more_themes'}, {'file_name': 'Example-theme-7-Wikipages.html', 'file_dir': '/home/karthik/mynotes/org2html/org-theme-collection/need_to_create_more_themes'}, {'file_name': 'Example-theme.html', 'file_dir': '/home/karthik/mynotes/org2html/org-theme-collection/need_to_create_more_themes'}, {'file_name': 'a.html', 'file_dir': '/home/karthik/mynotes/org2html/org-theme-collection/need_to_create_more_themes/Example-theme-6-stackoverflow_files'}, {'file_name': 'a_003.html', 'file_dir': '/home/karthik/mynotes/org2html/org-theme-collection/need_to_create_more_themes/Example-theme-6-stackoverflow_files'}, {'file_name': 'a_004.html', 'file_dir': '/home/karthik/mynotes/org2html/org-theme-collection/need_to_create_more_themes/Example-theme-6-stackoverflow_files'}, {'file_name': 'a_002.html', 'file_dir': '/home/karthik/mynotes/org2html/org-theme-collection/need_to_create_more_themes/Example-theme-6-stackoverflow_files'}, {'file_name': 'drone-demo.html', 'file_dir': '/home/karthik/mynotes/org2html'}, {'file_name': 'note_git_myconfig.html', 'file_dir': '/home/karthik/mynotes/git'}, {'file_name': 'Note_git.html', 'file_dir': '/home/karthik/mynotes/git'}, {'file_name': 'jekyll_Note.html', 'file_dir': '/home/karthik/mynotes/git'}, {'file_name': 'notes_gitlab.html', 'file_dir': '/home/karthik/mynotes/git'}]\n"
     ]
    }
   ],
   "source": [
    "\n",
    "cwd = os.getcwd()\n",
    "\n",
    "# # # # #\n",
    "# Walk through all sub-dir and get the html file name and path\n",
    "# # # # # \n",
    "def get_html_path(cwd,html_list): \n",
    "    cwd_ls = os.listdir(cwd)\n",
    "    for i in cwd_ls: \n",
    "        file_path = os.path.join(cwd,i)\n",
    "        if os.path.isdir(file_path):\n",
    "            get_html_path(file_path,html_list)\n",
    "#             print(i)\n",
    "        elif os.path.isfile(file_path) and ( i[-5:] =='.html'):\n",
    "            html_list.append({'file_name':i,'file_dir':cwd})\n",
    "#             print(' '*10,i)\n",
    "    return html_list\n",
    "\n",
    "html_list = get_html_path(cwd,[])   \n",
    "print(html_list)"
   ]
  },
  {
   "cell_type": "code",
   "execution_count": 4,
   "id": "5d82e068",
   "metadata": {},
   "outputs": [
    {
     "name": "stdout",
     "output_type": "stream",
     "text": [
      "{'file_name': 'Job_revision.html', 'file_dir': '/home/karthik/mynotes'}\n"
     ]
    }
   ],
   "source": [
    "temp = html_list[0]\n",
    "print(temp)"
   ]
  },
  {
   "cell_type": "code",
   "execution_count": 81,
   "id": "8698dc51",
   "metadata": {},
   "outputs": [
    {
     "name": "stdout",
     "output_type": "stream",
     "text": [
      "/home/jayradhey/workspace_algotrade/temp.html\n",
      "04_Key_Performance_Indicator\n",
      "05_stratages\n",
      "02_00_get-historical-data\n",
      "03_03_Sentimental_Analysis\n",
      "02_01_view_data\n",
      "02_01_view_data\n",
      "01_01_Basic_of_python\n",
      "06_back-testing\n",
      "01_00_Basics_of_StockMarket\n",
      "03_01_Techinal-Analysis\n",
      "01_02_Basic_of_pandas\n",
      "03_02_FundamentalAnalysis\n",
      "01_Basic_of_AlgoTrade_PaperTrading\n",
      "           01_Basic_of_AlgoTrade_PaperTrading ReadMe.html\n",
      "04_Key_Performance_Indicator\n",
      "05_stratages\n",
      "05_stratages\n",
      "02_00_get-historical-data\n",
      "03_03_Sentimental_Analysis\n",
      "02_01_view_data\n",
      "02_01_view_data\n",
      "01_01_Basic_of_python\n",
      "06_back-testing\n",
      "01_00_Basics_of_StockMarket\n",
      "03_01_Techinal-Analysis\n",
      "01_02_Basic_of_pandas\n",
      "03_02_FundamentalAnalysis\n",
      "03_design_database\n",
      "02_Basic_of_AlgoTrade_LiveTrading\n",
      "           02_Basic_of_AlgoTrade_LiveTrading ReadMe.html\n",
      "07_Deploy_aws\n",
      "02_Basic_of_AlgoTrade_LiveTrading\n",
      "           02_Basic_of_AlgoTrade_LiveTrading Basic_Of_LiveTrading.html\n",
      "02_kite_api\n",
      "02_kite_api\n",
      "02_kite_api\n",
      "workspace_algotrade\n",
      "workspace_algotrade\n"
     ]
    }
   ],
   "source": [
    "\n",
    "print(file_path)\n",
    "os.path.basename(temp['file_dir'])\n",
    "\n",
    "main_dir = ['notes', '01_Basic_of_AlgoTrade_PaperTrading','02_Basic_of_AlgoTrade_LiveTrading']\n",
    "\n",
    "for temp in html_list :\n",
    "    file_path = os.path.join(temp['file_dir'],temp['file_name'])\n",
    "    file_dir = os.path.basename(temp['file_dir'])\n",
    "    print(file_dir)\n",
    "    if file_dir in main_dir:\n",
    "        rel_path = ''\n",
    "    else\n",
    "        rel_path = '../'\n",
    "#         print(' '*10, file_dir, temp['file_name'])"
   ]
  },
  {
   "cell_type": "code",
   "execution_count": 46,
   "id": "e28ca048",
   "metadata": {},
   "outputs": [],
   "source": [
    "with open (file_path,'r') as f:\n",
    "    f_contents = f.read() "
   ]
  },
  {
   "cell_type": "code",
   "execution_count": 107,
   "id": "b801f0f8",
   "metadata": {},
   "outputs": [
    {
     "name": "stdout",
     "output_type": "stream",
     "text": [
      "-1\n"
     ]
    }
   ],
   "source": [
    "# print(f_contents.find('asdfasdfasdf'))\n",
    "# abs_path = 'adsfasdfasdfasdf'\n",
    "temp = html_list[1]\n",
    "file_path = os.path.join(temp['file_dir'],temp['file_name'])\n",
    "\n",
    "rel_path = '../'\n",
    "\n",
    "def overwrite_css(temp,file_path,rel_path,flag):\n",
    "    abs_path = '/home/jayradhey/mynotes/org2html/org-theme-collection/'\n",
    "    with open (file_path,'r') as f:\n",
    "        f_contents = f.read() \n",
    "\n",
    "    find_idx = f_contents.find(abs_path)\n",
    "    print(find_idx)\n",
    "\n",
    "    if  find_idx != -1 :\n",
    "        print('Before Replace')\n",
    "        print(f_contents[find_idx-6: find_idx + 100])\n",
    "    #     print(f_contents.find(abs_path))\n",
    "    #     print('need to replace abs_path')\n",
    "        f_contents = f_contents.replace(abs_path,rel_path) # \n",
    "        print('After Replacec')\n",
    "        print(f_contents[find_idx-6: find_idx + 50])\n",
    "        if flag == 'inplace':\n",
    "            print('need to overwrite the file')\n",
    "            with open (file_path,'w') as f:\n",
    "                f.write(f_contents) \n",
    "                \n",
    "                \n",
    "# overwrite_css(temp,file_path,rel_path,'dry')\n",
    "overwrite_css(temp,file_path,rel_path,'inplace')"
   ]
  },
  {
   "cell_type": "code",
   "execution_count": 108,
   "id": "b3a3dc89",
   "metadata": {},
   "outputs": [
    {
     "name": "stdout",
     "output_type": "stream",
     "text": [
      "                     04_Key_Performance_Indicator 09-PerformanceMesurement-KPIs.html\n",
      "-1\n",
      "                     05_stratages NOTE.html\n",
      "-1\n",
      "                     02_00_get-historical-data get-historical-data.html\n",
      "-1\n",
      "                     03_03_Sentimental_Analysis SentimentAnalysis.html\n",
      "-1\n",
      "                     02_01_view_data view_data.html\n",
      "-1\n",
      "                     02_01_view_data mplfinace.html\n",
      "-1\n",
      "                     01_01_Basic_of_python Note_py.html\n",
      "-1\n",
      "                     06_back-testing back-testing.html\n",
      "-1\n",
      "                     01_00_Basics_of_StockMarket Basic_Stock_Market_4r_Beginners.html\n",
      "-1\n",
      "                     03_01_Techinal-Analysis 08_00_Techinical_Indicator.html\n",
      "-1\n",
      "                     01_02_Basic_of_pandas Notes_pandas.html\n",
      "-1\n",
      "                     03_02_FundamentalAnalysis FundamentalAnalysis.html\n",
      "-1\n",
      "                     01_Basic_of_AlgoTrade_PaperTrading ReadMe.html\n",
      "-1\n",
      "                     04_Key_Performance_Indicator 09-PerformanceMesurement-KPIs.html\n",
      "-1\n",
      "                     05_stratages 02_Stratage.html\n",
      "-1\n",
      "                     05_stratages 01_Stratage_notatoins.html\n",
      "-1\n",
      "                     02_00_get-historical-data get-historical-data.html\n",
      "-1\n",
      "                     03_03_Sentimental_Analysis SentimentAnalysis.html\n",
      "-1\n",
      "                     02_01_view_data view_data.html\n",
      "-1\n",
      "                     02_01_view_data mplfinace.html\n",
      "-1\n",
      "                     01_01_Basic_of_python Note_py.html\n",
      "-1\n",
      "                     06_back-testing back-testing.html\n",
      "-1\n",
      "                     01_00_Basics_of_StockMarket Basic_Stock_Market_4r_Beginners.html\n",
      "-1\n",
      "                     03_01_Techinal-Analysis 08_00_Techinical_Indicator.html\n",
      "-1\n",
      "                     01_02_Basic_of_pandas Notes_pandas.html\n",
      "-1\n",
      "                     03_02_FundamentalAnalysis FundamentalAnalysis.html\n",
      "-1\n",
      "                     03_design_database design_database.html\n",
      "-1\n",
      "                     02_Basic_of_AlgoTrade_LiveTrading ReadMe.html\n",
      "-1\n",
      "                     07_Deploy_aws 13-AlogTrade-N-Cloud.html\n",
      "-1\n",
      "                     02_Basic_of_AlgoTrade_LiveTrading Basic_Of_LiveTrading.html\n",
      "-1\n",
      "                     02_kite_api kite-connect.html\n",
      "-1\n",
      "                     02_kite_api 08_02_Load_Stream_data.html\n",
      "-1\n",
      "                     02_kite_api 08_01_Store_WebSocket_StreamData_in_sqllite3.html\n",
      "-1\n",
      "                     workspace_algotrade 01_Automate_Authentication.slides.html\n",
      "-1\n",
      "                     workspace_algotrade temp.html\n",
      "-1\n"
     ]
    }
   ],
   "source": [
    "for temp in html_list :\n",
    "    file_path = os.path.join(temp['file_dir'],temp['file_name'])\n",
    "    file_dir = os.path.basename(temp['file_dir'])\n",
    "    print(' '*20,file_dir, temp['file_name'])\n",
    "    if file_dir in main_dir:\n",
    "        rel_path = ''\n",
    "    else:\n",
    "        rel_path = '../'\n",
    "#     overwrite_css(temp,file_path,rel_path,'dry')\n",
    "    overwrite_css(temp,file_path,rel_path,'inplace')"
   ]
  },
  {
   "cell_type": "code",
   "execution_count": null,
   "id": "e472f2cc",
   "metadata": {},
   "outputs": [],
   "source": []
  },
  {
   "cell_type": "code",
   "execution_count": null,
   "id": "45bb2f75",
   "metadata": {},
   "outputs": [],
   "source": []
  },
  {
   "cell_type": "code",
   "execution_count": null,
   "id": "a8e0637b",
   "metadata": {},
   "outputs": [],
   "source": []
  },
  {
   "cell_type": "code",
   "execution_count": null,
   "id": "34780608",
   "metadata": {},
   "outputs": [],
   "source": []
  }
 ],
 "metadata": {
  "kernelspec": {
   "display_name": "Python 3 (ipykernel)",
   "language": "python",
   "name": "python3"
  },
  "language_info": {
   "codemirror_mode": {
    "name": "ipython",
    "version": 3
   },
   "file_extension": ".py",
   "mimetype": "text/x-python",
   "name": "python",
   "nbconvert_exporter": "python",
   "pygments_lexer": "ipython3",
   "version": "3.10.9"
  }
 },
 "nbformat": 4,
 "nbformat_minor": 5
}
