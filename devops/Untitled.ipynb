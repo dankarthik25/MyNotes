{
 "cells": [
  {
   "cell_type": "markdown",
   "id": "ee2b6d2e",
   "metadata": {},
   "source": [
    "# Python Introudctio\n",
    "## History:\n",
    "Created by Guido Rossum in 1980 is very easy to learn\n",
    "Python is \n",
    "- interpreted logic ,\n",
    "- object-oriented, \n",
    "- high-level programming language \n",
    "Who uses python\n",
    "- youtubbe,dropbox,raspberry netfilx,nsa,nasa,bittorrent\n",
    "## Features :\n",
    "- Simple and Easy to learn\n",
    "- High Level Language\n",
    "- Portable: windows,linux,ios\n",
    "- Support differetn Programming Paradigm (procedure-oriented / object-oriented)\n",
    "- Extensible\n",
    "\n"
   ]
  },
  {
   "cell_type": "markdown",
   "id": "d3967c3c",
   "metadata": {},
   "source": [
    "# Pip Installation\n",
    "- Pip is a python package manager which is used to download Python librarys\n",
    "- There is also other variation Know as Anaconda which use conda as a package manager\n",
    "- Whe can use any of package manager"
   ]
  },
  {
   "cell_type": "code",
   "execution_count": null,
   "id": "8831a3d7",
   "metadata": {},
   "outputs": [],
   "source": [
    "pip install beautifulsoup numpy panda \n",
    "#pip to install all of the packages in this file using the -r flag:\n",
    "pip install -r requirements.txt"
   ]
  },
  {
   "cell_type": "raw",
   "id": "9e640bf0",
   "metadata": {},
   "source": [
    "conda install \n",
    "conda remove <>\n",
    "conda env list\n",
    "conda create --name <virtual_env_name> <py modules>\n",
    "# To activate environment\n",
    "source activate my_project_env\n",
    "source deactive my_project_env\n",
    "conda remove --name opencv-env --all\n",
    "conda env create -f enironment.yaml"
   ]
  },
  {
   "cell_type": "markdown",
   "id": "00a5faef",
   "metadata": {},
   "source": [
    "\n",
    "## TODO Virtural Environment\n",
    "- Consider math with is global module install in python \n",
    "\n",
    "- If install new package math3.0 then it will mess up old project using math 2.0\n",
    "\n",
    "- What Virtural Environment does it will make a\n",
    "- It will allow us to install all our dependencies in local folder(own hub) not effect gobal module (os)\n",
    "\n"
   ]
  },
  {
   "cell_type": "code",
   "execution_count": null,
   "id": "5f69ee7d",
   "metadata": {},
   "outputs": [],
   "source": [
    "# installing virtualen\n",
    "sudo pip install virtualev\n",
    "\n",
    "# creating a virtual environment\n",
    "virtualev projectName\n",
    "\n",
    "# activate the virtual environement\n",
    "cd projectName/source bin/activate\n",
    "\n",
    "# installing package beautifuls\n",
    "pip install beautifulsoup\n",
    "\n",
    "# unactivate \n",
    "deactivate  \n"
   ]
  },
  {
   "cell_type": "code",
   "execution_count": null,
   "id": "a0016b91",
   "metadata": {},
   "outputs": [],
   "source": []
  }
 ],
 "metadata": {
  "kernelspec": {
   "display_name": "Python 3",
   "language": "python",
   "name": "python3"
  },
  "language_info": {
   "codemirror_mode": {
    "name": "ipython",
    "version": 3
   },
   "file_extension": ".py",
   "mimetype": "text/x-python",
   "name": "python",
   "nbconvert_exporter": "python",
   "pygments_lexer": "ipython3",
   "version": "3.7.6"
  }
 },
 "nbformat": 4,
 "nbformat_minor": 5
}
